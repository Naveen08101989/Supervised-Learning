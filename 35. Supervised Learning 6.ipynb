{
 "cells": [
  {
   "cell_type": "code",
   "execution_count": null,
   "id": "7c42a827",
   "metadata": {},
   "outputs": [],
   "source": [
    "#Import Libraries \n",
    "\n",
    "import pandas as pd\n",
    "import os\n",
    "import numpy as np\n",
    "import seaborn as sns"
   ]
  },
  {
   "cell_type": "code",
   "execution_count": null,
   "id": "fd0b0af4",
   "metadata": {},
   "outputs": [],
   "source": [
    "os.chdir('C:\\\\Users\\\\DELL\\\\Desktop\\\\TOPMENTOR\\\\Batch 84 Day 35\\\\CS 35 Ans -Supervised Learnig-6\\\\')"
   ]
  },
  {
   "cell_type": "code",
   "execution_count": null,
   "id": "6fe11d32",
   "metadata": {},
   "outputs": [],
   "source": [
    "os.getcwd()"
   ]
  },
  {
   "cell_type": "code",
   "execution_count": 78,
   "id": "75016ea9",
   "metadata": {},
   "outputs": [
    {
     "name": "stdout",
     "output_type": "stream",
     "text": [
      "    Private   Apps  Accept  Enroll  Top10perc  Top25perc  F.Undergrad  \\\n",
      "0       Yes   1660    1232     721         23         52         2885   \n",
      "1       Yes   2186    1924     512         16         29         2683   \n",
      "2       Yes   1428    1097     336         22         50         1036   \n",
      "3       Yes    417     349     137         60         89          510   \n",
      "4       Yes    193     146      55         16         44          249   \n",
      "..      ...    ...     ...     ...        ...        ...          ...   \n",
      "772      No   2197    1515     543          4         26         3089   \n",
      "773     Yes   1959    1805     695         24         47         2849   \n",
      "774     Yes   2097    1915     695         34         61         2793   \n",
      "775     Yes  10705    2453    1317         95         99         5217   \n",
      "776     Yes   2989    1855     691         28         63         2988   \n",
      "\n",
      "     P.Undergrad  Outstate  Room.Board  Books  Personal  PhD  Terminal  \\\n",
      "0            537      7440        3300    450      2200   70        78   \n",
      "1           1227     12280        6450    750      1500   29        30   \n",
      "2             99     11250        3750    400      1165   53        66   \n",
      "3             63     12960        5450    450       875   92        97   \n",
      "4            869      7560        4120    800      1500   76        72   \n",
      "..           ...       ...         ...    ...       ...  ...       ...   \n",
      "772         2029      6797        3900    500      1200   60        60   \n",
      "773         1107     11520        4960    600      1250   73        75   \n",
      "774          166      6900        4200    617       781   67        75   \n",
      "775           83     19840        6510    630      2115   96        96   \n",
      "776         1726      4990        3560    500      1250   75        75   \n",
      "\n",
      "     S.F.Ratio  perc.alumni  Expend  Grad.Rate  \n",
      "0         18.1           12    7041         60  \n",
      "1         12.2           16   10527         56  \n",
      "2         12.9           30    8735         54  \n",
      "3          7.7           37   19016         59  \n",
      "4         11.9            2   10922         15  \n",
      "..         ...          ...     ...        ...  \n",
      "772       21.0           14    4469         40  \n",
      "773       13.3           31    9189         83  \n",
      "774       14.4           20    8323         49  \n",
      "775        5.8           49   40386         99  \n",
      "776       18.1           28    4509         99  \n",
      "\n",
      "[777 rows x 18 columns]\n"
     ]
    }
   ],
   "source": [
    "#Load Data set \n",
    "df = pd.read_csv(\"College.csv\")\n",
    "print (df)\n"
   ]
  },
  {
   "cell_type": "code",
   "execution_count": null,
   "id": "b75b9f1a",
   "metadata": {},
   "outputs": [],
   "source": [
    "#Data Checks \n",
    "\n",
    "print (df.shape)\n",
    "print (df.columns)\n"
   ]
  },
  {
   "cell_type": "code",
   "execution_count": null,
   "id": "69ebee92",
   "metadata": {},
   "outputs": [],
   "source": [
    "#Train Test Split and Label Encoding  \n",
    "\n",
    "from sklearn.model_selection import train_test_split\n",
    "from sklearn.preprocessing import LabelEncoder\n",
    "\n",
    "X, y = df.iloc[:, 1:].values, df.iloc[:, 0].values\n",
    "\n",
    "# Encode label category  male -> 1 and  female -> 0\n",
    "\n",
    "target_encoder = LabelEncoder()\n",
    "y = target_encoder.fit_transform(y)\n",
    "\n",
    "X_train, X_test, y_train, y_test = train_test_split(X, y, test_size=0.2, random_state=1)\n",
    "print(X_train.shape)\n",
    "\n"
   ]
  },
  {
   "cell_type": "code",
   "execution_count": null,
   "id": "63ba4176",
   "metadata": {},
   "outputs": [],
   "source": [
    "#Create Linear SVC Model \n",
    "\n",
    "from sklearn.svm import LinearSVC,SVC\n",
    "classifier = LinearSVC()\n",
    "\n",
    "\n",
    "classifier.fit(X_train,y_train)\n",
    "\n",
    "y_predict = classifier.predict(X_test)\n",
    "\n",
    "print (classifier.score(X_test,y_test))\n"
   ]
  },
  {
   "cell_type": "code",
   "execution_count": null,
   "id": "1a3a010c",
   "metadata": {},
   "outputs": [],
   "source": [
    "\n",
    "from sklearn.svm import LinearSVC,SVC\n",
    "classifier = LinearSVC()\n",
    "\n",
    "\n",
    "classifier.fit(X_train,y_train)"
   ]
  },
  {
   "cell_type": "code",
   "execution_count": null,
   "id": "715570eb",
   "metadata": {},
   "outputs": [],
   "source": [
    "#Confusion Matrix  \n",
    "\n",
    "\n",
    "from sklearn.metrics import confusion_matrix\n",
    "\n",
    "print(confusion_matrix(y_predict,y_test))\n"
   ]
  },
  {
   "cell_type": "code",
   "execution_count": null,
   "id": "9334e5ee",
   "metadata": {},
   "outputs": [],
   "source": [
    "#Confusion Matrix  \n",
    "\n",
    "\n",
    "from sklearn.metrics import confusion_matrix\n",
    "\n",
    "print(confusion_matrix(y_predict,y_test))\n"
   ]
  },
  {
   "cell_type": "code",
   "execution_count": null,
   "id": "31287142",
   "metadata": {},
   "outputs": [],
   "source": [
    "#Accuracy Score   \n",
    "\n",
    "from sklearn.metrics import accuracy_score\n",
    "accuracy = accuracy_score(y_predict,y_test)\n",
    "print (accuracy )\n"
   ]
  },
  {
   "cell_type": "code",
   "execution_count": null,
   "id": "c6c36c16",
   "metadata": {},
   "outputs": [],
   "source": [
    "#Classification Report   \n",
    "\n",
    "from sklearn.metrics import classification_report\n",
    "print(classification_report(y_test, y_predict))"
   ]
  },
  {
   "cell_type": "code",
   "execution_count": null,
   "id": "0f55280c",
   "metadata": {},
   "outputs": [],
   "source": [
    "#Create the SVC Model with Kernal = Linear \n",
    "\n",
    "classifier = SVC(kernel='linear')\n",
    "classifier.fit(X_train,y_train)\n",
    "classifier.score(X_test,y_test)"
   ]
  },
  {
   "cell_type": "code",
   "execution_count": null,
   "id": "a3dd3eae",
   "metadata": {},
   "outputs": [],
   "source": [
    "#Confusion Matrix , Accuracy Score and Classification Report \n",
    "\n",
    "y_predict = classifier.predict(X_test)\n",
    "print(confusion_matrix(y_predict,y_test))\n",
    "accuracy = accuracy_score(y_predict,y_test)\n",
    "print (accuracy )\n",
    "print(classification_report(y_test, y_predict))"
   ]
  },
  {
   "cell_type": "code",
   "execution_count": null,
   "id": "42146f57",
   "metadata": {},
   "outputs": [],
   "source": [
    "#Create the SVC Model with default Kernal = rbf  \n",
    "\n",
    "classifier = SVC()\n",
    "classifier.fit(X_train,y_train)\n",
    "classifier.score(X_test,y_test)"
   ]
  },
  {
   "cell_type": "code",
   "execution_count": null,
   "id": "75797e1b",
   "metadata": {},
   "outputs": [],
   "source": [
    "#Confusion Matrix , Accuracy Score and Classification Report \n",
    "\n",
    "\n",
    "y_predict = classifier.predict(X_test)\n",
    "print(confusion_matrix(y_predict,y_test))\n",
    "accuracy = accuracy_score(y_predict,y_test)\n",
    "print (accuracy )\n",
    "print(classification_report(y_test, y_predict))\n"
   ]
  },
  {
   "cell_type": "code",
   "execution_count": null,
   "id": "7ea32442",
   "metadata": {},
   "outputs": [],
   "source": [
    "#Import Grid Search CV and Random Search CV \n",
    "\n",
    "from sklearn.model_selection import GridSearchCV, RandomizedSearchCV\n",
    "from sklearn.preprocessing import StandardScaler\n",
    "\n"
   ]
  },
  {
   "cell_type": "code",
   "execution_count": null,
   "id": "c2573e04",
   "metadata": {},
   "outputs": [],
   "source": [
    "#Standardization of the data  \n",
    "\n",
    "scaler = StandardScaler()\n",
    "X, y = df.iloc[:, 1:].values, df.iloc[:, 0].values\n",
    "X = scaler.fit_transform(X)\n",
    "\n"
   ]
  },
  {
   "cell_type": "code",
   "execution_count": null,
   "id": "1639434a",
   "metadata": {},
   "outputs": [],
   "source": [
    "#Label Encoder and Train Test Split   \n",
    "\n",
    "\n",
    "target_encoder = LabelEncoder()\n",
    "y = target_encoder.fit_transform(y)\n",
    "\n",
    "X_train, X_test, y_train, y_test = train_test_split(X, y, test_size=0.2, random_state=1)\n",
    "print(X_train.shape)\n"
   ]
  },
  {
   "cell_type": "code",
   "execution_count": null,
   "id": "db74543a",
   "metadata": {},
   "outputs": [],
   "source": [
    "#Create the SVC Model with default Kernal = rbf  \n",
    "\n",
    "classifier = SVC()\n",
    "classifier.fit(X_train,y_train)\n",
    "classifier.score(X_test,y_test)\n"
   ]
  },
  {
   "cell_type": "code",
   "execution_count": null,
   "id": "9033d944",
   "metadata": {},
   "outputs": [],
   "source": [
    "#Confusion Matrix , Accuracy Score and Classification Report \n",
    "\n",
    "y_predict = classifier.predict(X_test)\n",
    "print(confusion_matrix(y_predict,y_test))\n",
    "accuracy = accuracy_score(y_predict,y_test)\n",
    "print (accuracy )\n",
    "print(classification_report(y_test, y_predict))\n",
    "\n"
   ]
  },
  {
   "cell_type": "code",
   "execution_count": null,
   "id": "2b2c3b22",
   "metadata": {},
   "outputs": [],
   "source": [
    "#Create Grid Search CV Model \n",
    "\n",
    "import numpy as np\n",
    "\n",
    "C_range = np.logspace(-2, 10, 13)\n",
    "gamma_range = np.logspace(-9, 3, 13)\n",
    "param_grid = dict( gamma=gamma_range,C=C_range)\n",
    "grid = GridSearchCV(SVC(), param_grid=param_grid,verbose=2)\n",
    "grid.fit(X_train, y_train)\n"
   ]
  },
  {
   "cell_type": "code",
   "execution_count": null,
   "id": "d5312a3e",
   "metadata": {},
   "outputs": [],
   "source": [
    "#Print Best Parameters \n",
    "\n",
    "print(\"The best parameters are %s with a score of %0.2f\"\n",
    "      % (grid.best_params_, grid.best_score_))\n"
   ]
  },
  {
   "cell_type": "code",
   "execution_count": null,
   "id": "7e3d1cd8",
   "metadata": {},
   "outputs": [],
   "source": [
    "#Confusion Matrix , Accuracy Score and Classification Report \n",
    "\n",
    "y_predict = grid.predict(X_test)\n",
    "print(confusion_matrix(y_predict,y_test))\n",
    "accuracy = accuracy_score(y_predict,y_test)\n",
    "print (accuracy )\n",
    "print(classification_report(y_test, y_predict))\n",
    "\n"
   ]
  },
  {
   "cell_type": "code",
   "execution_count": null,
   "id": "fda0ae2a",
   "metadata": {},
   "outputs": [],
   "source": [
    "#Create random Search Model  \n",
    "\n",
    "params = {'C': [0.1,1, 10, 100], 'gamma': [1,0.1,0.01,0.001]}\n",
    "print (params)\n",
    "rgrid =  RandomizedSearchCV(SVC(), param_distributions=params, n_iter= 12,cv = 10,  verbose=2 )\n",
    "\n",
    "rgrid.fit(X_train, y_train)\n",
    "\n"
   ]
  },
  {
   "cell_type": "code",
   "execution_count": null,
   "id": "39b54d65",
   "metadata": {},
   "outputs": [],
   "source": [
    "#Print Best Parameters \n",
    "\n",
    "print(\"The best parameters are %s with a score of %0.2f\"\n",
    "      % (rgrid.best_params_, rgrid.best_score_))\n",
    "\n"
   ]
  },
  {
   "cell_type": "code",
   "execution_count": null,
   "id": "84b4b818",
   "metadata": {},
   "outputs": [],
   "source": [
    "#Confusion Matrix , Accuracy Score and Classification Report \n",
    "\n",
    "y_predict = rgrid.predict(X_test)\n",
    "print(confusion_matrix(y_predict,y_test))\n",
    "accuracy = accuracy_score(y_predict,y_test)\n",
    "print (accuracy )\n",
    "print(classification_report(y_test, y_predict))\n"
   ]
  },
  {
   "cell_type": "code",
   "execution_count": null,
   "id": "8ab412b0",
   "metadata": {},
   "outputs": [],
   "source": []
  }
 ],
 "metadata": {
  "kernelspec": {
   "display_name": "Python 3 (ipykernel)",
   "language": "python",
   "name": "python3"
  },
  "language_info": {
   "codemirror_mode": {
    "name": "ipython",
    "version": 3
   },
   "file_extension": ".py",
   "mimetype": "text/x-python",
   "name": "python",
   "nbconvert_exporter": "python",
   "pygments_lexer": "ipython3",
   "version": "3.11.3"
  }
 },
 "nbformat": 4,
 "nbformat_minor": 5
}
